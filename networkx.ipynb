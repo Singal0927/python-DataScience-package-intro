{
 "cells": [
  {
   "cell_type": "code",
   "execution_count": 2,
   "metadata": {},
   "outputs": [],
   "source": [
    "import networkx as nx\n",
    "import matplotlib.pyplot as plt"
   ]
  },
  {
   "cell_type": "markdown",
   "metadata": {},
   "source": [
    "实例化对象：Graph是一组节点和已识别的节点对的集合。"
   ]
  },
  {
   "cell_type": "code",
   "execution_count": 3,
   "metadata": {},
   "outputs": [
    {
     "data": {
      "image/png": "[encoded data removed]",
      "text/plain": [
       "<Figure size 432x288 with 1 Axes>"
      ]
     },
     "metadata": {},
     "output_type": "display_data"
    }
   ],
   "source": [
    "G=nx.Graph()\n",
    "G.add_nodes_from('spam')\n",
    "G.add_edges_from([(1,2),(3,3)])#在点1和点2之间添加一条边，在点3本身添加一条边，若不存在点1、2、3，则自动创建\n",
    "nx.draw(G)"
   ]
  },
  {
   "cell_type": "code",
   "execution_count": 4,
   "metadata": {},
   "outputs": [
    {
     "data": {
      "text/plain": [
       "NodeView(('s', 'p', 'a', 'm', 1, 2, 3))"
      ]
     },
     "execution_count": 4,
     "metadata": {},
     "output_type": "execute_result"
    }
   ],
   "source": [
    "G.nodes"
   ]
  },
  {
   "cell_type": "code",
   "execution_count": 5,
   "metadata": {},
   "outputs": [
    {
     "data": {
      "text/plain": [
       "EdgeView([(1, 2), (3, 3)])"
      ]
     },
     "execution_count": 5,
     "metadata": {},
     "output_type": "execute_result"
    }
   ],
   "source": [
    "G.edges"
   ]
  },
  {
   "cell_type": "code",
   "execution_count": 6,
   "metadata": {},
   "outputs": [
    {
     "data": {
      "text/plain": [
       "AdjacencyView({'s': {}, 'p': {}, 'a': {}, 'm': {}, 1: {2: {}}, 2: {1: {}}, 3: {3: {}}})"
      ]
     },
     "execution_count": 6,
     "metadata": {},
     "output_type": "execute_result"
    }
   ],
   "source": [
    "G.adj#adjacent相邻的，即两个点之间存在一条边"
   ]
  },
  {
   "cell_type": "code",
   "execution_count": 7,
   "metadata": {},
   "outputs": [],
   "source": [
    "g=nx.Graph()\n",
    "g.add_weighted_edges_from([(1, 2, 0.125), (1, 3, 0.75), (2, 4, 1.2), (3, 4, 0.375)])"
   ]
  },
  {
   "cell_type": "code",
   "execution_count": 8,
   "metadata": {},
   "outputs": [
    {
     "name": "stdout",
     "output_type": "stream",
     "text": [
      "1\n",
      "{2: {'weight': 0.125}, 3: {'weight': 0.75}}\n",
      "2 {'weight': 0.125}\n",
      "3 {'weight': 0.75}\n",
      "\n",
      "2\n",
      "{1: {'weight': 0.125}, 4: {'weight': 1.2}}\n",
      "1 {'weight': 0.125}\n",
      "4 {'weight': 1.2}\n",
      "\n",
      "3\n",
      "{1: {'weight': 0.75}, 4: {'weight': 0.375}}\n",
      "1 {'weight': 0.75}\n",
      "4 {'weight': 0.375}\n",
      "\n",
      "4\n",
      "{2: {'weight': 1.2}, 3: {'weight': 0.375}}\n",
      "2 {'weight': 1.2}\n",
      "3 {'weight': 0.375}\n",
      "\n"
     ]
    }
   ],
   "source": [
    "for a,b in g.adj.items():#必须加上items\n",
    "    print(a,b,sep='\\n')#某个顶点与哪些顶点相连\n",
    "    for c,d in b.items():\n",
    "        print(c,d)\n",
    "    print()"
   ]
  },
  {
   "cell_type": "code",
   "execution_count": 9,
   "metadata": {},
   "outputs": [
    {
     "data": {
      "text/plain": [
       "EdgeDataView([(1, 2, 0.125), (1, 3, 0.75), (2, 4, 1.2), (3, 4, 0.375)])"
      ]
     },
     "execution_count": 9,
     "metadata": {},
     "output_type": "execute_result"
    }
   ],
   "source": [
    "g.edges.data('weight')#相比上一步的嵌套循环，该法更方便"
   ]
  },
  {
   "cell_type": "code",
   "execution_count": 39,
   "metadata": {},
   "outputs": [
    {
     "data": {
      "text/plain": [
       "{'name': 'text'}"
      ]
     },
     "execution_count": 39,
     "metadata": {},
     "output_type": "execute_result"
    }
   ],
   "source": [
    "G=nx.Graph(name='text')\n",
    "G.graph"
   ]
  },
  {
   "cell_type": "code",
   "execution_count": 11,
   "metadata": {},
   "outputs": [],
   "source": [
    "names=['工商银行','建设银行','农业银行','中国银行','邮储银行','交通银行','招商银行','浦发银行','兴业银行','中信银行','民生银行','光大银行','平安银行','华夏银行','北京银行','上海银行','江苏银行','浙商银行','宁波银行','南京银行']\n",
    "\n",
    "symbols=['601398','601939','601288','601988','601658','601328','600036','600000','601166','601998','600016','601818','000001','600015','601169','601229','600919','601916','002142','601009']"
   ]
  },
  {
   "cell_type": "code",
   "execution_count": 40,
   "metadata": {},
   "outputs": [],
   "source": [
    "for i in range(len(names)):\n",
    "    G.add_node(names[i],symbol=symbols[i])"
   ]
  },
  {
   "cell_type": "code",
   "execution_count": 41,
   "metadata": {},
   "outputs": [
    {
     "name": "stderr",
     "output_type": "stream",
     "text": [
      "/Users/singal/miniforge3/envs/py38/lib/python3.8/site-packages/IPython/core/pylabtools.py:151: UserWarning: Glyph 24037 (\\N{CJK UNIFIED IDEOGRAPH-5DE5}) missing from current font.\n",
      "  fig.canvas.print_figure(bytes_io, **kw)\n",
      "/Users/singal/miniforge3/envs/py38/lib/python3.8/site-packages/IPython/core/pylabtools.py:151: UserWarning: Glyph 21830 (\\N{CJK UNIFIED IDEOGRAPH-5546}) missing from current font.\n",
      "  fig.canvas.print_figure(bytes_io, **kw)\n",
      "/Users/singal/miniforge3/envs/py38/lib/python3.8/site-packages/IPython/core/pylabtools.py:151: UserWarning: Glyph 38134 (\\N{CJK UNIFIED IDEOGRAPH-94F6}) missing from current font.\n",
      "  fig.canvas.print_figure(bytes_io, **kw)\n",
      "/Users/singal/miniforge3/envs/py38/lib/python3.8/site-packages/IPython/core/pylabtools.py:151: UserWarning: Glyph 34892 (\\N{CJK UNIFIED IDEOGRAPH-884C}) missing from current font.\n",
      "  fig.canvas.print_figure(bytes_io, **kw)\n",
      "/Users/singal/miniforge3/envs/py38/lib/python3.8/site-packages/IPython/core/pylabtools.py:151: UserWarning: Glyph 24314 (\\N{CJK UNIFIED IDEOGRAPH-5EFA}) missing from current font.\n",
      "  fig.canvas.print_figure(bytes_io, **kw)\n",
      "/Users/singal/miniforge3/envs/py38/lib/python3.8/site-packages/IPython/core/pylabtools.py:151: UserWarning: Glyph 35774 (\\N{CJK UNIFIED IDEOGRAPH-8BBE}) missing from current font.\n",
      "  fig.canvas.print_figure(bytes_io, **kw)\n",
      "/Users/singal/miniforge3/envs/py38/lib/python3.8/site-packages/IPython/core/pylabtools.py:151: UserWarning: Glyph 20892 (\\N{CJK UNIFIED IDEOGRAPH-519C}) missing from current font.\n",
      "  fig.canvas.print_figure(bytes_io, **kw)\n",
      "/Users/singal/miniforge3/envs/py38/lib/python3.8/site-packages/IPython/core/pylabtools.py:151: UserWarning: Glyph 19994 (\\N{CJK UNIFIED IDEOGRAPH-4E1A}) missing from current font.\n",
      "  fig.canvas.print_figure(bytes_io, **kw)\n",
      "/Users/singal/miniforge3/envs/py38/lib/python3.8/site-packages/IPython/core/pylabtools.py:151: UserWarning: Glyph 20013 (\\N{CJK UNIFIED IDEOGRAPH-4E2D}) missing from current font.\n",
      "  fig.canvas.print_figure(bytes_io, **kw)\n",
      "/Users/singal/miniforge3/envs/py38/lib/python3.8/site-packages/IPython/core/pylabtools.py:151: UserWarning: Glyph 22269 (\\N{CJK UNIFIED IDEOGRAPH-56FD}) missing from current font.\n",
      "  fig.canvas.print_figure(bytes_io, **kw)\n",
      "/Users/singal/miniforge3/envs/py38/lib/python3.8/site-packages/IPython/core/pylabtools.py:151: UserWarning: Glyph 37038 (\\N{CJK UNIFIED IDEOGRAPH-90AE}) missing from current font.\n",
      "  fig.canvas.print_figure(bytes_io, **kw)\n",
      "/Users/singal/miniforge3/envs/py38/lib/python3.8/site-packages/IPython/core/pylabtools.py:151: UserWarning: Glyph 20648 (\\N{CJK UNIFIED IDEOGRAPH-50A8}) missing from current font.\n",
      "  fig.canvas.print_figure(bytes_io, **kw)\n",
      "/Users/singal/miniforge3/envs/py38/lib/python3.8/site-packages/IPython/core/pylabtools.py:151: UserWarning: Glyph 20132 (\\N{CJK UNIFIED IDEOGRAPH-4EA4}) missing from current font.\n",
      "  fig.canvas.print_figure(bytes_io, **kw)\n",
      "/Users/singal/miniforge3/envs/py38/lib/python3.8/site-packages/IPython/core/pylabtools.py:151: UserWarning: Glyph 36890 (\\N{CJK UNIFIED IDEOGRAPH-901A}) missing from current font.\n",
      "  fig.canvas.print_figure(bytes_io, **kw)\n",
      "/Users/singal/miniforge3/envs/py38/lib/python3.8/site-packages/IPython/core/pylabtools.py:151: UserWarning: Glyph 25307 (\\N{CJK UNIFIED IDEOGRAPH-62DB}) missing from current font.\n",
      "  fig.canvas.print_figure(bytes_io, **kw)\n",
      "/Users/singal/miniforge3/envs/py38/lib/python3.8/site-packages/IPython/core/pylabtools.py:151: UserWarning: Glyph 28006 (\\N{CJK UNIFIED IDEOGRAPH-6D66}) missing from current font.\n",
      "  fig.canvas.print_figure(bytes_io, **kw)\n",
      "/Users/singal/miniforge3/envs/py38/lib/python3.8/site-packages/IPython/core/pylabtools.py:151: UserWarning: Glyph 21457 (\\N{CJK UNIFIED IDEOGRAPH-53D1}) missing from current font.\n",
      "  fig.canvas.print_figure(bytes_io, **kw)\n",
      "/Users/singal/miniforge3/envs/py38/lib/python3.8/site-packages/IPython/core/pylabtools.py:151: UserWarning: Glyph 20852 (\\N{CJK UNIFIED IDEOGRAPH-5174}) missing from current font.\n",
      "  fig.canvas.print_figure(bytes_io, **kw)\n",
      "/Users/singal/miniforge3/envs/py38/lib/python3.8/site-packages/IPython/core/pylabtools.py:151: UserWarning: Glyph 20449 (\\N{CJK UNIFIED IDEOGRAPH-4FE1}) missing from current font.\n",
      "  fig.canvas.print_figure(bytes_io, **kw)\n",
      "/Users/singal/miniforge3/envs/py38/lib/python3.8/site-packages/IPython/core/pylabtools.py:151: UserWarning: Glyph 27665 (\\N{CJK UNIFIED IDEOGRAPH-6C11}) missing from current font.\n",
      "  fig.canvas.print_figure(bytes_io, **kw)\n",
      "/Users/singal/miniforge3/envs/py38/lib/python3.8/site-packages/IPython/core/pylabtools.py:151: UserWarning: Glyph 29983 (\\N{CJK UNIFIED IDEOGRAPH-751F}) missing from current font.\n",
      "  fig.canvas.print_figure(bytes_io, **kw)\n",
      "/Users/singal/miniforge3/envs/py38/lib/python3.8/site-packages/IPython/core/pylabtools.py:151: UserWarning: Glyph 20809 (\\N{CJK UNIFIED IDEOGRAPH-5149}) missing from current font.\n",
      "  fig.canvas.print_figure(bytes_io, **kw)\n",
      "/Users/singal/miniforge3/envs/py38/lib/python3.8/site-packages/IPython/core/pylabtools.py:151: UserWarning: Glyph 22823 (\\N{CJK UNIFIED IDEOGRAPH-5927}) missing from current font.\n",
      "  fig.canvas.print_figure(bytes_io, **kw)\n",
      "/Users/singal/miniforge3/envs/py38/lib/python3.8/site-packages/IPython/core/pylabtools.py:151: UserWarning: Glyph 24179 (\\N{CJK UNIFIED IDEOGRAPH-5E73}) missing from current font.\n",
      "  fig.canvas.print_figure(bytes_io, **kw)\n",
      "/Users/singal/miniforge3/envs/py38/lib/python3.8/site-packages/IPython/core/pylabtools.py:151: UserWarning: Glyph 23433 (\\N{CJK UNIFIED IDEOGRAPH-5B89}) missing from current font.\n",
      "  fig.canvas.print_figure(bytes_io, **kw)\n",
      "/Users/singal/miniforge3/envs/py38/lib/python3.8/site-packages/IPython/core/pylabtools.py:151: UserWarning: Glyph 21326 (\\N{CJK UNIFIED IDEOGRAPH-534E}) missing from current font.\n",
      "  fig.canvas.print_figure(bytes_io, **kw)\n",
      "/Users/singal/miniforge3/envs/py38/lib/python3.8/site-packages/IPython/core/pylabtools.py:151: UserWarning: Glyph 22799 (\\N{CJK UNIFIED IDEOGRAPH-590F}) missing from current font.\n",
      "  fig.canvas.print_figure(bytes_io, **kw)\n",
      "/Users/singal/miniforge3/envs/py38/lib/python3.8/site-packages/IPython/core/pylabtools.py:151: UserWarning: Glyph 21271 (\\N{CJK UNIFIED IDEOGRAPH-5317}) missing from current font.\n",
      "  fig.canvas.print_figure(bytes_io, **kw)\n",
      "/Users/singal/miniforge3/envs/py38/lib/python3.8/site-packages/IPython/core/pylabtools.py:151: UserWarning: Glyph 20140 (\\N{CJK UNIFIED IDEOGRAPH-4EAC}) missing from current font.\n",
      "  fig.canvas.print_figure(bytes_io, **kw)\n",
      "/Users/singal/miniforge3/envs/py38/lib/python3.8/site-packages/IPython/core/pylabtools.py:151: UserWarning: Glyph 19978 (\\N{CJK UNIFIED IDEOGRAPH-4E0A}) missing from current font.\n",
      "  fig.canvas.print_figure(bytes_io, **kw)\n",
      "/Users/singal/miniforge3/envs/py38/lib/python3.8/site-packages/IPython/core/pylabtools.py:151: UserWarning: Glyph 28023 (\\N{CJK UNIFIED IDEOGRAPH-6D77}) missing from current font.\n",
      "  fig.canvas.print_figure(bytes_io, **kw)\n",
      "/Users/singal/miniforge3/envs/py38/lib/python3.8/site-packages/IPython/core/pylabtools.py:151: UserWarning: Glyph 27743 (\\N{CJK UNIFIED IDEOGRAPH-6C5F}) missing from current font.\n",
      "  fig.canvas.print_figure(bytes_io, **kw)\n",
      "/Users/singal/miniforge3/envs/py38/lib/python3.8/site-packages/IPython/core/pylabtools.py:151: UserWarning: Glyph 33487 (\\N{CJK UNIFIED IDEOGRAPH-82CF}) missing from current font.\n",
      "  fig.canvas.print_figure(bytes_io, **kw)\n",
      "/Users/singal/miniforge3/envs/py38/lib/python3.8/site-packages/IPython/core/pylabtools.py:151: UserWarning: Glyph 27993 (\\N{CJK UNIFIED IDEOGRAPH-6D59}) missing from current font.\n",
      "  fig.canvas.print_figure(bytes_io, **kw)\n",
      "/Users/singal/miniforge3/envs/py38/lib/python3.8/site-packages/IPython/core/pylabtools.py:151: UserWarning: Glyph 23425 (\\N{CJK UNIFIED IDEOGRAPH-5B81}) missing from current font.\n",
      "  fig.canvas.print_figure(bytes_io, **kw)\n",
      "/Users/singal/miniforge3/envs/py38/lib/python3.8/site-packages/IPython/core/pylabtools.py:151: UserWarning: Glyph 27874 (\\N{CJK UNIFIED IDEOGRAPH-6CE2}) missing from current font.\n",
      "  fig.canvas.print_figure(bytes_io, **kw)\n",
      "/Users/singal/miniforge3/envs/py38/lib/python3.8/site-packages/IPython/core/pylabtools.py:151: UserWarning: Glyph 21335 (\\N{CJK UNIFIED IDEOGRAPH-5357}) missing from current font.\n",
      "  fig.canvas.print_figure(bytes_io, **kw)\n"
     ]
    },
    {
     "data": {
      "image/png": "[encoded data removed]",
      "text/plain": [
       "<Figure size 432x288 with 1 Axes>"
      ]
     },
     "metadata": {},
     "output_type": "display_data"
    }
   ],
   "source": [
    "nx.draw(G,with_labels=True)"
   ]
  },
  {
   "cell_type": "code",
   "execution_count": 42,
   "metadata": {},
   "outputs": [
    {
     "data": {
      "text/plain": [
       "NodeDataView({'工商银行': {'symbol': '601398'}, '建设银行': {'symbol': '601939'}, '农业银行': {'symbol': '601288'}, '中国银行': {'symbol': '601988'}, '邮储银行': {'symbol': '601658'}, '交通银行': {'symbol': '601328'}, '招商银行': {'symbol': '600036'}, '浦发银行': {'symbol': '600000'}, '兴业银行': {'symbol': '601166'}, '中信银行': {'symbol': '601998'}, '民生银行': {'symbol': '600016'}, '光大银行': {'symbol': '601818'}, '平安银行': {'symbol': '000001'}, '华夏银行': {'symbol': '600015'}, '北京银行': {'symbol': '601169'}, '上海银行': {'symbol': '601229'}, '江苏银行': {'symbol': '600919'}, '浙商银行': {'symbol': '601916'}, '宁波银行': {'symbol': '002142'}, '南京银行': {'symbol': '601009'}})"
      ]
     },
     "execution_count": 42,
     "metadata": {},
     "output_type": "execute_result"
    }
   ],
   "source": [
    "G.nodes.data()"
   ]
  }
 ],
 "metadata": {
  "interpreter": {
   "hash": "da5d3c13d5aa829161cf843792884de182f91ab2e540693bb706e0e23cabc9e9"
  },
  "kernelspec": {
   "display_name": "Python 3.8.12 ('py38')",
   "language": "python",
   "name": "python3"
  },
  "language_info": {
   "codemirror_mode": {
    "name": "ipython",
    "version": 3
   },
   "file_extension": ".py",
   "mimetype": "text/x-python",
   "name": "python",
   "nbconvert_exporter": "python",
   "pygments_lexer": "ipython3",
   "version": "3.8.12"
  },
  "orig_nbformat": 4
 },
 "nbformat": 4,
 "nbformat_minor": 2
}
