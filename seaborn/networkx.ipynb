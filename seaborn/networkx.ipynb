{
 "cells": [
  {
   "cell_type": "code",
   "execution_count": 2,
   "metadata": {},
   "outputs": [],
   "source": [
    "import networkx as nx\n",
    "import matplotlib.pyplot as plt"
   ]
  },
  {
   "cell_type": "markdown",
   "metadata": {},
   "source": [
    "实例化对象：Graph是一组节点和已识别的节点对的集合。"
   ]
  },
  {
   "cell_type": "code",
   "execution_count": 3,
   "metadata": {},
   "outputs": [
    {
     "data": {
      "image/png": "[encoded data removed]",
      "text/plain": [
       "<Figure size 432x288 with 1 Axes>"
      ]
     },
     "metadata": {},
     "output_type": "display_data"
    }
   ],
   "source": [
    "G=nx.Graph()\n",
    "G.add_nodes_from('spam')\n",
    "G.add_edges_from([(1,2),(3,3)])#在点1和点2之间添加一条边，在点3本身添加一条边，若不存在点1、2、3，则自动创建\n",
    "nx.draw(G)"
   ]
  },
  {
   "cell_type": "code",
   "execution_count": 4,
   "metadata": {},
   "outputs": [
    {
     "data": {
      "text/plain": [
       "NodeView(('s', 'p', 'a', 'm', 1, 2, 3))"
      ]
     },
     "execution_count": 4,
     "metadata": {},
     "output_type": "execute_result"
    }
   ],
   "source": [
    "G.nodes"
   ]
  },
  {
   "cell_type": "code",
   "execution_count": 5,
   "metadata": {},
   "outputs": [
    {
     "data": {
      "text/plain": [
       "EdgeView([(1, 2), (3, 3)])"
      ]
     },
     "execution_count": 5,
     "metadata": {},
     "output_type": "execute_result"
    }
   ],
   "source": [
    "G.edges"
   ]
  },
  {
   "cell_type": "code",
   "execution_count": 6,
   "metadata": {},
   "outputs": [
    {
     "data": {
      "text/plain": [
       "AdjacencyView({'s': {}, 'p': {}, 'a': {}, 'm': {}, 1: {2: {}}, 2: {1: {}}, 3: {3: {}}})"
      ]
     },
     "execution_count": 6,
     "metadata": {},
     "output_type": "execute_result"
    }
   ],
   "source": [
    "G.adj#adjacent相邻的，即两个点之间存在一条边"
   ]
  },
  {
   "cell_type": "code",
   "execution_count": 7,
   "metadata": {},
   "outputs": [],
   "source": [
    "g=nx.Graph()\n",
    "g.add_weighted_edges_from([(1, 2, 0.125), (1, 3, 0.75), (2, 4, 1.2), (3, 4, 0.375)])"
   ]
  },
  {
   "cell_type": "code",
   "execution_count": 8,
   "metadata": {},
   "outputs": [
    {
     "name": "stdout",
     "output_type": "stream",
     "text": [
      "1\n",
      "{2: {'weight': 0.125}, 3: {'weight': 0.75}}\n",
      "2 {'weight': 0.125}\n",
      "3 {'weight': 0.75}\n",
      "\n",
      "2\n",
      "{1: {'weight': 0.125}, 4: {'weight': 1.2}}\n",
      "1 {'weight': 0.125}\n",
      "4 {'weight': 1.2}\n",
      "\n",
      "3\n",
      "{1: {'weight': 0.75}, 4: {'weight': 0.375}}\n",
      "1 {'weight': 0.75}\n",
      "4 {'weight': 0.375}\n",
      "\n",
      "4\n",
      "{2: {'weight': 1.2}, 3: {'weight': 0.375}}\n",
      "2 {'weight': 1.2}\n",
      "3 {'weight': 0.375}\n",
      "\n"
     ]
    }
   ],
   "source": [
    "for a,b in g.adj.items():#必须加上items\n",
    "    print(a,b,sep='\\n')#某个顶点与哪些顶点相连\n",
    "    for c,d in b.items():\n",
    "        print(c,d)\n",
    "    print()"
   ]
  },
  {
   "cell_type": "code",
   "execution_count": 9,
   "metadata": {},
   "outputs": [
    {
     "data": {
      "text/plain": [
       "EdgeDataView([(1, 2, 0.125), (1, 3, 0.75), (2, 4, 1.2), (3, 4, 0.375)])"
      ]
     },
     "execution_count": 9,
     "metadata": {},
     "output_type": "execute_result"
    }
   ],
   "source": [
    "g.edges.data('weight')#相比上一步的嵌套循环，该法更方便"
   ]
  },
  {
   "cell_type": "code",
   "execution_count": 39,
   "metadata": {},
   "outputs": [
    {
     "data": {
      "text/plain": [
       "{'name': 'text'}"
      ]
     },
     "execution_count": 39,
     "metadata": {},
     "output_type": "execute_result"
    }
   ],
   "source": [
    "G=nx.Graph(name='text')\n",
    "G.graph"
   ]
  },
  {
   "cell_type": "code",
   "execution_count": 11,
   "metadata": {},
   "outputs": [],
   "source": [
    "names=['工商银行','建设银行','农业银行','中国银行','邮储银行','交通银行','招商银行','浦发银行','兴业银行','中信银行','民生银行','光大银行','平安银行','华夏银行','北京银行','上海银行','江苏银行','浙商银行','宁波银行','南京银行']\n",
    "\n",
    "symbols=['601398','601939','601288','601988','601658','601328','600036','600000','601166','601998','600016','601818','000001','600015','601169','601229','600919','601916','002142','601009']"
   ]
  },
  {
   "cell_type": "code",
   "execution_count": 40,
   "metadata": {},
   "outputs": [],
   "source": [
    "for i in range(len(names)):\n",
    "    G.add_node(names[i],symbol=symbols[i])"
   ]
  },
  {
   "cell_type": "code",
   "execution_count": 42,
   "metadata": {},
   "outputs": [
    {
     "data": {
      "text/plain": [
       "NodeDataView({'工商银行': {'symbol': '601398'}, '建设银行': {'symbol': '601939'}, '农业银行': {'symbol': '601288'}, '中国银行': {'symbol': '601988'}, '邮储银行': {'symbol': '601658'}, '交通银行': {'symbol': '601328'}, '招商银行': {'symbol': '600036'}, '浦发银行': {'symbol': '600000'}, '兴业银行': {'symbol': '601166'}, '中信银行': {'symbol': '601998'}, '民生银行': {'symbol': '600016'}, '光大银行': {'symbol': '601818'}, '平安银行': {'symbol': '000001'}, '华夏银行': {'symbol': '600015'}, '北京银行': {'symbol': '601169'}, '上海银行': {'symbol': '601229'}, '江苏银行': {'symbol': '600919'}, '浙商银行': {'symbol': '601916'}, '宁波银行': {'symbol': '002142'}, '南京银行': {'symbol': '601009'}})"
      ]
     },
     "execution_count": 42,
     "metadata": {},
     "output_type": "execute_result"
    }
   ],
   "source": [
    "G.nodes.data()"
   ]
  }
 ],
 "metadata": {
  "interpreter": {
   "hash": "da5d3c13d5aa829161cf843792884de182f91ab2e540693bb706e0e23cabc9e9"
  },
  "kernelspec": {
   "display_name": "Python 3.8.12 ('py38')",
   "language": "python",
   "name": "python3"
  },
  "language_info": {
   "codemirror_mode": {
    "name": "ipython",
    "version": 3
   },
   "file_extension": ".py",
   "mimetype": "text/x-python",
   "name": "python",
   "nbconvert_exporter": "python",
   "pygments_lexer": "ipython3",
   "version": "3.8.12"
  },
  "orig_nbformat": 4
 },
 "nbformat": 4,
 "nbformat_minor": 2
}
