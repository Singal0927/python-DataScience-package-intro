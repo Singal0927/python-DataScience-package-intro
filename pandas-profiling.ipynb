{
 "cells": [
  {
   "cell_type": "markdown",
   "metadata": {},
   "source": [
    "# Pandas-Profiling: Best package for EDA\n",
    "官方github地址： https://github.com/ydataai/pandas-profiling"
   ]
  },
  {
   "cell_type": "markdown",
   "metadata": {},
   "source": [
    "## Multi-Entity Time Series (Panel Data) \n",
    "### Data Summary\n",
    "This dataset deals with pollution in the U.S. Pollution in the U.S. has been well documented by the U.S. EPA.\n",
    "\n",
    "Includes four major pollutants (Nitrogen Dioxide, Sulphur Dioxide, Carbon Monoxide and Ozone).\n",
    "\n",
    "State Code : The code allocated by US EPA to each state  \n",
    "County code : The code of counties in a specific state allocated by US EPA  \n",
    "Site Num : The site number in a specific county allocated by US EPA  \n",
    "Address: Address of the monitoring site  \n",
    "State : State of monitoring site  \n",
    "County : County of monitoring site  \n",
    "City : City of the monitoring site  \n",
    "Date Local : Date of monitoring  \n",
    "The four pollutants (NO2, O3, SO2 and O3) each has 5 specific columns. For instance, for NO2:  \n",
    "\n",
    "NO2 Units : The units measured for NO2  \n",
    "NO2 Mean : The arithmetic mean of concentration of NO2 within a given day  \n",
    "NO2 AQI : The calculated air quality index of NO2 within a given day  \n",
    "NO2 1st Max Value : The maximum value obtained for NO2 concentration in a given day  \n",
    "NO2 1st Max Hour : The hour when the maximum NO2 concentration was recorded in a given day  \n",
    "Source: Kaggle https://www.kaggle.com/sogun3/uspollution"
   ]
  },
  {
   "cell_type": "code",
   "execution_count": null,
   "metadata": {},
   "outputs": [],
   "source": [
    "import pandas as pd\n",
    "data_panel=pd.read_csv('pollution_us_2000_2016.csv',index_col=[0])#防止出现“Unnamed: 0”\n",
    "data_panel.sample(5)"
   ]
  },
  {
   "cell_type": "markdown",
   "metadata": {},
   "source": [
    "不失一般性，单独考察加州的气象数据"
   ]
  },
  {
   "cell_type": "code",
   "execution_count": null,
   "metadata": {},
   "outputs": [],
   "source": [
    "data_panel=data_panel[data_panel['State']=='California']\n",
    "data_panel['Date Local']=pd.DatetimeIndex(data_panel['Date Local'])\n",
    "data_panel['Site Num'].unique()"
   ]
  },
  {
   "cell_type": "code",
   "execution_count": null,
   "metadata": {},
   "outputs": [],
   "source": [
    "from pandas_profiling.visualisation.plot import timeseries_heatmap\n",
    "#entity_column为纵坐标，sortby为横坐标\n",
    "timeseries_heatmap(dataframe=data_panel, entity_column='Site Num', sortby='Date Local')"
   ]
  },
  {
   "cell_type": "code",
   "execution_count": null,
   "metadata": {},
   "outputs": [],
   "source": [
    "from pandas_profiling import ProfileReport\n",
    "for group in data_panel.groupby('Site Num'):\n",
    "    #df.groupby返回分组表结果，其中每个迭代结果为一个元组，元组的第一个元素为Site Num，第二个元素为Site Num对应的df。如元组的第一个元素为1，即站点1，则第二个元素为站点1的所有观测数据。\n",
    "\n",
    "    profile=ProfileReport(\n",
    "        group[1],\n",
    "        tsmode=True,\n",
    "        sortby='Date Local',\n",
    "        title=f'Air Quality Profile - Site Num: {group[0]}')\n",
    "\n",
    "    profile.to_file(f'Air Quality Profile - Site Num: {group[0]}.html')#建议额外生成个文件，美观\n",
    "    break#只生成第一个站点的数据，以作示例"
   ]
  }
 ],
 "metadata": {
  "kernelspec": {
   "display_name": "Python 3.9.6 ('base')",
   "language": "python",
   "name": "python3"
  },
  "language_info": {
   "codemirror_mode": {
    "name": "ipython",
    "version": 3
   },
   "file_extension": ".py",
   "mimetype": "text/x-python",
   "name": "python",
   "nbconvert_exporter": "python",
   "pygments_lexer": "ipython3",
   "version": "3.9.6"
  },
  "orig_nbformat": 4,
  "vscode": {
   "interpreter": {
    "hash": "d0d6b5db3ff6deed5357e74e82358bfd10dda4e9c8a6121bf29f2ea09b13104f"
   }
  }
 },
 "nbformat": 4,
 "nbformat_minor": 2
}
